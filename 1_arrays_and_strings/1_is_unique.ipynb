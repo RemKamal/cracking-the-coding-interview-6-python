{
 "cells": [
  {
   "cell_type": "markdown",
   "metadata": {},
   "source": [
    "## Problem\n",
    "\n",
    "Implement an algorithm to determine if a string has all unique characters."
   ]
  },
  {
   "cell_type": "markdown",
   "metadata": {},
   "source": [
    "### Thoughts\n",
    "Use a set to represent the string, and check the different between the length of the string and the length of the set."
   ]
  },
  {
   "cell_type": "code",
   "execution_count": 1,
   "metadata": {
    "collapsed": true
   },
   "outputs": [],
   "source": [
    "# Time: O(n)\n",
    "# Space: O(n)\n",
    "\n",
    "def is_unique(s):\n",
    "    return len(s) == len(set(s))"
   ]
  },
  {
   "cell_type": "code",
   "execution_count": 2,
   "metadata": {
    "collapsed": false
   },
   "outputs": [
    {
     "data": {
      "text/plain": [
       "False"
      ]
     },
     "execution_count": 2,
     "metadata": {},
     "output_type": "execute_result"
    }
   ],
   "source": [
    "is_unique(\"abba\")"
   ]
  },
  {
   "cell_type": "code",
   "execution_count": 3,
   "metadata": {
    "collapsed": false
   },
   "outputs": [
    {
     "data": {
      "text/plain": [
       "True"
      ]
     },
     "execution_count": 3,
     "metadata": {},
     "output_type": "execute_result"
    }
   ],
   "source": [
    "is_unique(\"abc\")"
   ]
  },
  {
   "cell_type": "markdown",
   "metadata": {},
   "source": [
    "### Follow Up\n",
    "What if you cannot use additional data structures?"
   ]
  },
  {
   "cell_type": "markdown",
   "metadata": {},
   "source": [
    "Since we cannot use additional data stuctures, we could use [Python count() method](http://www.tutorialspoint.com/python/string_count.htm) here."
   ]
  },
  {
   "cell_type": "code",
   "execution_count": 4,
   "metadata": {
    "collapsed": true
   },
   "outputs": [],
   "source": [
    "# Time: O(n^2)\n",
    "# Space: in-place\n",
    "\n",
    "def is_unique(s):\n",
    "    for letter in s:\n",
    "        if s.count(letter) > 1:\n",
    "            return False\n",
    "    return True"
   ]
  },
  {
   "cell_type": "code",
   "execution_count": 5,
   "metadata": {
    "collapsed": false
   },
   "outputs": [
    {
     "data": {
      "text/plain": [
       "False"
      ]
     },
     "execution_count": 5,
     "metadata": {},
     "output_type": "execute_result"
    }
   ],
   "source": [
    "is_unique(\"aaa\")"
   ]
  },
  {
   "cell_type": "code",
   "execution_count": 6,
   "metadata": {
    "collapsed": false
   },
   "outputs": [
    {
     "data": {
      "text/plain": [
       "True"
      ]
     },
     "execution_count": 6,
     "metadata": {},
     "output_type": "execute_result"
    }
   ],
   "source": [
    "is_unique(\"abcd\")"
   ]
  },
  {
   "cell_type": "markdown",
   "metadata": {},
   "source": [
    "However, although it's clean in terms of the coding, we reached a quadratic running time. Can we do better? Absolutely. There's a little trick I've learnt so far -- if something is not sorted and reached more than quadratic time, then we should think about sorting it first cause we know several O(NlgN) sorting algorithms. Once it's sorted, finding an item will be easy(lgN)."
   ]
  },
  {
   "cell_type": "code",
   "execution_count": 7,
   "metadata": {
    "collapsed": true
   },
   "outputs": [],
   "source": [
    "# Time: O(nlgn)\n",
    "# Space: o(n)\n",
    "\n",
    "def is_unique(s):\n",
    "    s = merge_sort(s)\n",
    "    for i in range(len(s)):\n",
    "        if binary_search(s[i], s[i + 1:]):\n",
    "            return False\n",
    "    return True\n",
    "\n",
    "def merge_sort(s, s_copy = \"\"):\n",
    "    n = len(s)\n",
    "    if n == 1: return s\n",
    "    left = merge_sort(s[:n / 2], s_copy = s_copy)\n",
    "    right = merge_sort(s[n / 2:], s_copy = s_copy)\n",
    "    l, r = 0, 0\n",
    "    while l < len(left) and r < len(right):\n",
    "        if left[l] > right[r]:\n",
    "            s_copy += right[r]\n",
    "            r += 1\n",
    "        else:\n",
    "            s_copy += left[l]\n",
    "            l += 1\n",
    "    while l < len(left):\n",
    "        s_copy += left[l]\n",
    "        l += 1\n",
    "    while r < len(right):\n",
    "        s_copy += right[r]\n",
    "        r += 1\n",
    "    return s_copy\n",
    "\n",
    "def binary_search(letter, s):\n",
    "    if not s: return\n",
    "    mid = len(s) / 2\n",
    "    if s[mid] == letter:\n",
    "        return True\n",
    "    else:\n",
    "        return binary_search(letter, s[:mid])"
   ]
  },
  {
   "cell_type": "code",
   "execution_count": 8,
   "metadata": {
    "collapsed": false
   },
   "outputs": [
    {
     "data": {
      "text/plain": [
       "True"
      ]
     },
     "execution_count": 8,
     "metadata": {},
     "output_type": "execute_result"
    }
   ],
   "source": [
    "is_unique(\"asdfghjkl\")"
   ]
  },
  {
   "cell_type": "code",
   "execution_count": 9,
   "metadata": {
    "collapsed": false
   },
   "outputs": [
    {
     "data": {
      "text/plain": [
       "False"
      ]
     },
     "execution_count": 9,
     "metadata": {},
     "output_type": "execute_result"
    }
   ],
   "source": [
    "is_unique(\"asdfghjklal\")"
   ]
  }
 ],
 "metadata": {
  "kernelspec": {
   "display_name": "Python 2",
   "language": "python",
   "name": "python2"
  },
  "language_info": {
   "codemirror_mode": {
    "name": "ipython",
    "version": 2
   },
   "file_extension": ".py",
   "mimetype": "text/x-python",
   "name": "python",
   "nbconvert_exporter": "python",
   "pygments_lexer": "ipython2",
   "version": "2.7.10"
  }
 },
 "nbformat": 4,
 "nbformat_minor": 0
}
