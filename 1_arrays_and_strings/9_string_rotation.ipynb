{
 "cells": [
  {
   "cell_type": "markdown",
   "metadata": {},
   "source": [
    "## Problem\n",
    "\n",
    "Assume you have a method is_substring which checks if one word is a substring of another. Given two strings, s1 and s2, write code to check if s2 is a rotation of s2 using only one call to is_substring.\n",
    "\n",
    "| INPUT | OUTPUT|\n",
    "| :-: | :-: |\n",
    "| waterbottle, erbottlewat | True|"
   ]
  }
 ],
 "metadata": {
  "kernelspec": {
   "display_name": "Python 2",
   "language": "python",
   "name": "python2"
  },
  "language_info": {
   "codemirror_mode": {
    "name": "ipython",
    "version": 2
   },
   "file_extension": ".py",
   "mimetype": "text/x-python",
   "name": "python",
   "nbconvert_exporter": "python",
   "pygments_lexer": "ipython2",
   "version": "2.7.10"
  }
 },
 "nbformat": 4,
 "nbformat_minor": 0
}
