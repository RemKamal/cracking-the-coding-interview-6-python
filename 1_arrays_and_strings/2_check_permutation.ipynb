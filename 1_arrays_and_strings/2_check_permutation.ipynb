{
 "cells": [
  {
   "cell_type": "markdown",
   "metadata": {},
   "source": [
    "## Problem\n",
    "\n",
    "Given two strings, write a method to decide if one is a permutation of the other."
   ]
  },
  {
   "cell_type": "markdown",
   "metadata": {},
   "source": [
    "## Thoughts\n",
    "\n",
    "A simple brute force algorithm could solve the problem in quadratic time, but that's clearly not what we want. By sorting the strings first, we could then solve the problem in O(nlgn). However, if we use a hash table here, we could reach a linear time.\n",
    "\n",
    "Before the coding, we need to several cases,\n",
    "\n",
    "- if two strings have different lengths, we could quickly return false.\n",
    "- in this problem, we treat lowercase and upper case letters differently."
   ]
  },
  {
   "cell_type": "code",
   "execution_count": 1,
   "metadata": {
    "collapsed": true
   },
   "outputs": [],
   "source": [
    "def check_perm(s1, s2):\n",
    "    if len(s1) != len(s2): return False\n",
    "    \n",
    "    checker = {}\n",
    "    for letter in s1:\n",
    "        if letter not in checker:\n",
    "            checker[letter] = 1\n",
    "        else:\n",
    "            checker[letter] += 1\n",
    "    for letter in s2:\n",
    "        if letter in checker:\n",
    "            checker[letter] -= 1\n",
    "            if checker[letter] < 0:\n",
    "                return False\n",
    "        else:\n",
    "            return False\n",
    "    return True"
   ]
  },
  {
   "cell_type": "code",
   "execution_count": 2,
   "metadata": {
    "collapsed": false
   },
   "outputs": [
    {
     "data": {
      "text/plain": [
       "True"
      ]
     },
     "execution_count": 2,
     "metadata": {},
     "output_type": "execute_result"
    }
   ],
   "source": [
    "check_perm('asdfghjkl', 'lkjhgfdsa')"
   ]
  },
  {
   "cell_type": "code",
   "execution_count": 3,
   "metadata": {
    "collapsed": false
   },
   "outputs": [
    {
     "data": {
      "text/plain": [
       "True"
      ]
     },
     "execution_count": 3,
     "metadata": {},
     "output_type": "execute_result"
    }
   ],
   "source": [
    "check_perm('aaabbbccc', 'cccaaabbb')"
   ]
  },
  {
   "cell_type": "code",
   "execution_count": 4,
   "metadata": {
    "collapsed": false
   },
   "outputs": [
    {
     "data": {
      "text/plain": [
       "False"
      ]
     },
     "execution_count": 4,
     "metadata": {},
     "output_type": "execute_result"
    }
   ],
   "source": [
    "check_perm('aassddd', 'aaasddd')"
   ]
  }
 ],
 "metadata": {
  "kernelspec": {
   "display_name": "Python 2",
   "language": "python",
   "name": "python2"
  },
  "language_info": {
   "codemirror_mode": {
    "name": "ipython",
    "version": 2
   },
   "file_extension": ".py",
   "mimetype": "text/x-python",
   "name": "python",
   "nbconvert_exporter": "python",
   "pygments_lexer": "ipython2",
   "version": "2.7.10"
  }
 },
 "nbformat": 4,
 "nbformat_minor": 0
}
