{
 "cells": [
  {
   "cell_type": "markdown",
   "metadata": {},
   "source": [
    "## Problem\n",
    "\n",
    "There are three types of edits that can be performed on strings:\n",
    "\n",
    "- insert a character,\n",
    "- remove a character,\n",
    "- replace a character.\n",
    "\n",
    "Given two strings, write a function to check if they are one edit or zero edits away.\n",
    "\n",
    "| INPUT | OUTPUT |\n",
    "| :-: | :-: |\n",
    "| pale, ple | True |\n",
    "| pales, pale | True |\n",
    "| pale, bale | True |\n",
    "| pale, bake | False |"
   ]
  }
 ],
 "metadata": {
  "kernelspec": {
   "display_name": "Python 2",
   "language": "python",
   "name": "python2"
  },
  "language_info": {
   "codemirror_mode": {
    "name": "ipython",
    "version": 2
   },
   "file_extension": ".py",
   "mimetype": "text/x-python",
   "name": "python",
   "nbconvert_exporter": "python",
   "pygments_lexer": "ipython2",
   "version": "2.7.10"
  }
 },
 "nbformat": 4,
 "nbformat_minor": 0
}
