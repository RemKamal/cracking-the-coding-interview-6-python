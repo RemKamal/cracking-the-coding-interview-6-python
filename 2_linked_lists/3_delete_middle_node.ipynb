{
 "cells": [
  {
   "cell_type": "markdown",
   "metadata": {},
   "source": [
    "## Problem\n",
    "\n",
    "Implement an algorithm to delete a node in the middle (i.e., any node but the first and last node) of a singly linked list, given only access to that node.\n",
    "\n",
    "| Input | Output |\n",
    "| - | - |\n",
    "| a -> b -> c -> d, c| a -> b -> d |"
   ]
  }
 ],
 "metadata": {
  "kernelspec": {
   "display_name": "Python 2",
   "language": "python",
   "name": "python2"
  },
  "language_info": {
   "codemirror_mode": {
    "name": "ipython",
    "version": 2
   },
   "file_extension": ".py",
   "mimetype": "text/x-python",
   "name": "python",
   "nbconvert_exporter": "python",
   "pygments_lexer": "ipython2",
   "version": "2.7.10"
  }
 },
 "nbformat": 4,
 "nbformat_minor": 0
}
