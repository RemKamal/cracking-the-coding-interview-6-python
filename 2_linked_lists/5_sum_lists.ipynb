{
 "cells": [
  {
   "cell_type": "markdown",
   "metadata": {},
   "source": [
    "## Problem\n",
    "\n",
    "You have two numbers represented by a linked list, where each node contains a single digit. The digits are stored in reverse order, such that the 1st digit is at the head of the list. Write a function that adds the two numbers and returns the sum as a linked list.\n",
    "\n",
    "| Input | Output |\n",
    "| - | - |\n",
    "| (7 -> 1 -> 6) + (5 -> 9 -> 2) | 2 -> 1 -> 9|"
   ]
  },
  {
   "cell_type": "markdown",
   "metadata": {},
   "source": [
    "## Follow up\n",
    "\n",
    "Suppose the digits are stored in forward order.\n",
    "\n",
    "| Input | Output |\n",
    "| - | - |\n",
    "| (6 -> 1 -> 7) + (2 -> 9 -> 5) | 9 -> 1 -> 2 |"
   ]
  }
 ],
 "metadata": {
  "kernelspec": {
   "display_name": "Python 2",
   "language": "python",
   "name": "python2"
  },
  "language_info": {
   "codemirror_mode": {
    "name": "ipython",
    "version": 2
   },
   "file_extension": ".py",
   "mimetype": "text/x-python",
   "name": "python",
   "nbconvert_exporter": "python",
   "pygments_lexer": "ipython2",
   "version": "2.7.10"
  }
 },
 "nbformat": 4,
 "nbformat_minor": 0
}
