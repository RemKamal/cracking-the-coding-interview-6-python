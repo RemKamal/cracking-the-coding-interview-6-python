{
 "cells": [
  {
   "cell_type": "markdown",
   "metadata": {},
   "source": [
    "## Problem\n",
    "\n",
    "Given a binary tree, design an algorithm which creates a linked list of all the nodes at each depth."
   ]
  },
  {
   "cell_type": "markdown",
   "metadata": {},
   "source": [
    "## Thoughts\n",
    "\n",
    "Starting from the root of the tree, we could perform a BFS at each level."
   ]
  },
  {
   "cell_type": "code",
   "execution_count": 1,
   "metadata": {
    "collapsed": true
   },
   "outputs": [],
   "source": [
    "from collections import deque\n",
    "from tree_helper import tree_from_array, LinkedList"
   ]
  },
  {
   "cell_type": "code",
   "execution_count": 2,
   "metadata": {
    "collapsed": true
   },
   "outputs": [],
   "source": [
    "## Time: O(n)\n",
    "## Space: O(n)\n",
    "\n",
    "def construct(node):\n",
    "    queue = deque()\n",
    "    prev = 0\n",
    "    queue.append((node, prev))\n",
    "    visited = [node]\n",
    "    ll = LinkedList()\n",
    "    result = []\n",
    "    \n",
    "    while queue:\n",
    "        current, height = queue.popleft()\n",
    "        if height != prev:\n",
    "            result.append(ll)\n",
    "            ll = LinkedList()\n",
    "            ll.push(current.value)\n",
    "            prev = height\n",
    "        else:\n",
    "            ll.push(current.value)\n",
    "        \n",
    "        if current.left and current.left not in visited:\n",
    "            visited.append(current.left)\n",
    "            queue.append((current.left, height + 1))\n",
    "        if current.right and current.right not in visited:\n",
    "            visited.append(current.right)\n",
    "            queue.append((current.right, height + 1))\n",
    "    \n",
    "    result.append(ll)\n",
    "    return result"
   ]
  },
  {
   "cell_type": "code",
   "execution_count": 3,
   "metadata": {
    "collapsed": true
   },
   "outputs": [],
   "source": [
    "# create a tree structure using functions from 4.2\n",
    "array = [0,1,2,3,4,5,6,7,8,9,10]\n",
    "tree = tree_from_array(array)"
   ]
  },
  {
   "cell_type": "code",
   "execution_count": 4,
   "metadata": {
    "collapsed": false
   },
   "outputs": [
    {
     "data": {
      "text/plain": [
       "[<tree_helper.LinkedList at 0x1044006d0>,\n",
       " <tree_helper.LinkedList at 0x1044002d0>,\n",
       " <tree_helper.LinkedList at 0x1044000d0>,\n",
       " <tree_helper.LinkedList at 0x103ff40d0>]"
      ]
     },
     "execution_count": 4,
     "metadata": {},
     "output_type": "execute_result"
    }
   ],
   "source": [
    "construct(tree)"
   ]
  },
  {
   "cell_type": "markdown",
   "metadata": {},
   "source": [
    "We could take a look at each list,"
   ]
  },
  {
   "cell_type": "code",
   "execution_count": 5,
   "metadata": {
    "collapsed": false
   },
   "outputs": [
    {
     "name": "stdout",
     "output_type": "stream",
     "text": [
      "5 -> None\n",
      "\n",
      "8 -> 2\n",
      "2 -> None\n",
      "\n",
      "10 -> 7\n",
      "7 -> 4\n",
      "4 -> 1\n",
      "1 -> None\n",
      "\n",
      "9 -> 6\n",
      "6 -> 3\n",
      "3 -> 0\n",
      "0 -> None\n",
      "\n"
     ]
    }
   ],
   "source": [
    "for i in construct(tree):\n",
    "    print i"
   ]
  }
 ],
 "metadata": {
  "kernelspec": {
   "display_name": "Python 2",
   "language": "python",
   "name": "python2"
  },
  "language_info": {
   "codemirror_mode": {
    "name": "ipython",
    "version": 2
   },
   "file_extension": ".py",
   "mimetype": "text/x-python",
   "name": "python",
   "nbconvert_exporter": "python",
   "pygments_lexer": "ipython2",
   "version": "2.7.10"
  }
 },
 "nbformat": 4,
 "nbformat_minor": 0
}
