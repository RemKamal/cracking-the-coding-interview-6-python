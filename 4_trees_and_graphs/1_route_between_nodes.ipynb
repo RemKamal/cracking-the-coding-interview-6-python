{
 "cells": [
  {
   "cell_type": "markdown",
   "metadata": {},
   "source": [
    "## Problem\n",
    "\n",
    "Given a directed graph, design an algorithm to find out whether there is a route between two nodes."
   ]
  },
  {
   "cell_type": "markdown",
   "metadata": {},
   "source": [
    "## Thoughts\n",
    "\n",
    "We could use either a BFS or DFS here to travel through the graph"
   ]
  },
  {
   "cell_type": "code",
   "execution_count": 1,
   "metadata": {
    "collapsed": true
   },
   "outputs": [],
   "source": [
    "from collections import deque"
   ]
  },
  {
   "cell_type": "code",
   "execution_count": 2,
   "metadata": {
    "collapsed": true
   },
   "outputs": [],
   "source": [
    "## Time: O(E)\n",
    "## Space: O(V)\n",
    "\n",
    "def bfs(G, node1, node2):\n",
    "    queue = deque()\n",
    "    queue.append(node1)\n",
    "    visited = []\n",
    "    \n",
    "    while queue:\n",
    "        node = queue.popleft()\n",
    "        for nb in G[node]:\n",
    "            if nb not in visited:\n",
    "                visited.append(nb)\n",
    "                queue.append(nb)\n",
    "    return node2 in visited"
   ]
  },
  {
   "cell_type": "code",
   "execution_count": 3,
   "metadata": {
    "collapsed": false
   },
   "outputs": [],
   "source": [
    "\"\"\"\n",
    "      a\n",
    "     / \\\n",
    "    b   c\n",
    "   /\n",
    "  d\n",
    " / \\\n",
    "e   f  g\n",
    "\"\"\"\n",
    "\n",
    "G = {'a': ['b', 'c'],\n",
    "     'b': ['d'],\n",
    "     'c': [],\n",
    "     'd': ['e', 'f'],\n",
    "     'e': [],\n",
    "     'f': [],\n",
    "     'g': []}"
   ]
  },
  {
   "cell_type": "code",
   "execution_count": 4,
   "metadata": {
    "collapsed": false
   },
   "outputs": [
    {
     "data": {
      "text/plain": [
       "False"
      ]
     },
     "execution_count": 4,
     "metadata": {},
     "output_type": "execute_result"
    }
   ],
   "source": [
    "bfs(G, 'a', 'g')"
   ]
  },
  {
   "cell_type": "code",
   "execution_count": 5,
   "metadata": {
    "collapsed": false
   },
   "outputs": [
    {
     "data": {
      "text/plain": [
       "True"
      ]
     },
     "execution_count": 5,
     "metadata": {},
     "output_type": "execute_result"
    }
   ],
   "source": [
    "bfs(G, 'a', 'd')"
   ]
  }
 ],
 "metadata": {
  "kernelspec": {
   "display_name": "Python 2",
   "language": "python",
   "name": "python2"
  },
  "language_info": {
   "codemirror_mode": {
    "name": "ipython",
    "version": 2
   },
   "file_extension": ".py",
   "mimetype": "text/x-python",
   "name": "python",
   "nbconvert_exporter": "python",
   "pygments_lexer": "ipython2",
   "version": "2.7.10"
  }
 },
 "nbformat": 4,
 "nbformat_minor": 0
}
