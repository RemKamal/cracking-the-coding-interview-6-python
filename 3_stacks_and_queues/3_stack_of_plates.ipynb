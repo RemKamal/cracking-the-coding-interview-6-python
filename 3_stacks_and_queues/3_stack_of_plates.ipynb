{
 "cells": [
  {
   "cell_type": "markdown",
   "metadata": {},
   "source": [
    "## Problem\n",
    "\n",
    "Imagine a stack of plates. If the stack gets too high, it might topple. Therefore, in real life, we would likely start a new stack when the previous stack exceeds some threshold. Implement a data structure set_of_stacks that mimics this. set_of_stacks should be composed of several stacks and should create a new stack once the previous one exceeds capacity. set_of_stacks.push() and set_of_stacks.pop() should behave identically to a single stack (that is, pop() should return the same values as it would if there were just a single stack)."
   ]
  },
  {
   "cell_type": "markdown",
   "metadata": {},
   "source": [
    "## Follow up\n",
    "\n",
    "Implement a function pop_at(index) which performs a pop operation on a specific sub-stack."
   ]
  }
 ],
 "metadata": {
  "kernelspec": {
   "display_name": "Python 2",
   "language": "python",
   "name": "python2"
  },
  "language_info": {
   "codemirror_mode": {
    "name": "ipython",
    "version": 2
   },
   "file_extension": ".py",
   "mimetype": "text/x-python",
   "name": "python",
   "nbconvert_exporter": "python",
   "pygments_lexer": "ipython2",
   "version": "2.7.10"
  }
 },
 "nbformat": 4,
 "nbformat_minor": 0
}
