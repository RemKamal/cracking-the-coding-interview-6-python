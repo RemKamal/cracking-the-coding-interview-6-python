{
 "cells": [
  {
   "cell_type": "markdown",
   "metadata": {},
   "source": [
    "## Problem\n",
    "\n",
    "You are given two sorted array, A and B, where A has a large enough buffer at the end to hold B. Write a method to merge B into A in sorted order."
   ]
  },
  {
   "cell_type": "markdown",
   "metadata": {},
   "source": [
    "## Thoughts\n",
    "\n",
    "This is like the merging part of merge sort. However, since array A already has enough space at the end, we should do this operation in place.\n",
    "\n",
    "For this problem, it's tough to compare ann insert elements from the beginning as it will take O(n) time to shift elements to the back. Thus, we will do it from the end."
   ]
  },
  {
   "cell_type": "code",
   "execution_count": 1,
   "metadata": {
    "collapsed": false
   },
   "outputs": [],
   "source": [
    "# Time: O(n)\n",
    "# Space: in-place\n",
    "\n",
    "def sorted_merge(a, b):\n",
    "    i, j, z = len(a) - 1, len(b) - 1, len(a) - 1\n",
    "    \n",
    "    while j > 0 and i >= 0:\n",
    "        # find the last element index in a\n",
    "        while not a[i]: \n",
    "            i -= 1\n",
    "            \n",
    "        if a[i] > b[j]:\n",
    "            a[z] = a[i]\n",
    "            i -= 1\n",
    "        else:\n",
    "            a[z] = b[j]\n",
    "            j -= 1\n",
    "        z -= 1\n",
    "    \n",
    "    # the i index is tricky!\n",
    "    while i >= 0 and z > 0:\n",
    "        if a[i] > b[j]:\n",
    "            a[z] = a[i]\n",
    "            i -= 1\n",
    "            z -= 1\n",
    "        else:\n",
    "            a[z] = b[j]\n",
    "            z -= 1\n",
    "    \n",
    "    while j > 0 and z > 0:\n",
    "        if a[i] > b[j]:\n",
    "            a[z] = a[i]\n",
    "            j += 1\n",
    "            z -= 1\n",
    "        else:\n",
    "            a[z] = b[j]\n",
    "            z -= 1\n",
    "            \n",
    "    return a"
   ]
  },
  {
   "cell_type": "code",
   "execution_count": 2,
   "metadata": {
    "collapsed": false
   },
   "outputs": [],
   "source": [
    "b = [2, 4, 6, 8, 10]\n",
    "a = [1, 3, 5, 7, 9, 11] + [None for i in range(len(b))]"
   ]
  },
  {
   "cell_type": "code",
   "execution_count": 3,
   "metadata": {
    "collapsed": false
   },
   "outputs": [
    {
     "data": {
      "text/plain": [
       "[1, 2, 3, 4, 5, 6, 7, 8, 9, 10, 11]"
      ]
     },
     "execution_count": 3,
     "metadata": {},
     "output_type": "execute_result"
    }
   ],
   "source": [
    "sorted_merge(a, b)"
   ]
  },
  {
   "cell_type": "code",
   "execution_count": 4,
   "metadata": {
    "collapsed": false
   },
   "outputs": [],
   "source": [
    "b = [2, 4, 6, 8, 10, 12, 14, 16]\n",
    "a = [1, 3, 5, 7, 9, 11] + [None for i in range(len(b))]"
   ]
  },
  {
   "cell_type": "code",
   "execution_count": 5,
   "metadata": {
    "collapsed": false
   },
   "outputs": [
    {
     "data": {
      "text/plain": [
       "[1, 2, 3, 4, 5, 6, 7, 8, 9, 10, 11, 12, 14, 16]"
      ]
     },
     "execution_count": 5,
     "metadata": {},
     "output_type": "execute_result"
    }
   ],
   "source": [
    "sorted_merge(a, b)"
   ]
  }
 ],
 "metadata": {
  "kernelspec": {
   "display_name": "Python 2",
   "language": "python",
   "name": "python2"
  },
  "language_info": {
   "codemirror_mode": {
    "name": "ipython",
    "version": 2
   },
   "file_extension": ".py",
   "mimetype": "text/x-python",
   "name": "python",
   "nbconvert_exporter": "python",
   "pygments_lexer": "ipython2",
   "version": "2.7.10"
  }
 },
 "nbformat": 4,
 "nbformat_minor": 0
}
