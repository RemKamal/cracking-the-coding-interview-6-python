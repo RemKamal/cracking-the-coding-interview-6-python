{
 "cells": [
  {
   "cell_type": "markdown",
   "metadata": {},
   "source": [
    "## Problem\n",
    "Write a function to swap two numbers in place."
   ]
  },
  {
   "cell_type": "markdown",
   "metadata": {},
   "source": [
    "### Thoughts\n",
    "We could apply the standard way to swap values in Python, more details in [this post.](http://stackoverflow.com/a/14836456/5168217)"
   ]
  },
  {
   "cell_type": "code",
   "execution_count": 1,
   "metadata": {
    "collapsed": true
   },
   "outputs": [],
   "source": [
    "# Time: O(1)\n",
    "# Space: in-place\n",
    "\n",
    "def num_swap(a, b):\n",
    "    b, a = a, b\n",
    "    return a, b"
   ]
  },
  {
   "cell_type": "code",
   "execution_count": 2,
   "metadata": {
    "collapsed": false
   },
   "outputs": [
    {
     "data": {
      "text/plain": [
       "(32, 10)"
      ]
     },
     "execution_count": 2,
     "metadata": {},
     "output_type": "execute_result"
    }
   ],
   "source": [
    "a, b = 10, 32\n",
    "num_swap(a, b)"
   ]
  },
  {
   "cell_type": "markdown",
   "metadata": {},
   "source": [
    "However, there's a trick we could apply when thinking of binary numbers. The [XOR swap algorithm](https://en.wikipedia.org/wiki/XOR_swap_algorithm) comes handy when we want to swap variables in place. In short, there are three properties applied in XOR operations when we use it for swapping, for any number x, y,\n",
    "- x XOR 0 is x;\n",
    "- x XOR x is 0;\n",
    "- x XOR y XOR x is the same as x XOR x XOR y;\n",
    "\n",
    "thus we could conclude that x XOR y XOR x is always y."
   ]
  },
  {
   "cell_type": "code",
   "execution_count": 3,
   "metadata": {
    "collapsed": true
   },
   "outputs": [],
   "source": [
    "def swap_xor(a, b):\n",
    "    a = a ^ b\n",
    "    b = a ^ b # b = a ^ b = (a ^ b) ^ b = a ^ (b ^ b) = a ^ 0 = a\n",
    "    a = a ^ b # a = a ^ a ^ b = 0 ^ b = b\n",
    "    return a, b"
   ]
  },
  {
   "cell_type": "code",
   "execution_count": 4,
   "metadata": {
    "collapsed": false
   },
   "outputs": [
    {
     "data": {
      "text/plain": [
       "(32, 10)"
      ]
     },
     "execution_count": 4,
     "metadata": {},
     "output_type": "execute_result"
    }
   ],
   "source": [
    "a, b = 10, 32\n",
    "swap_xor(a, b)"
   ]
  }
 ],
 "metadata": {
  "kernelspec": {
   "display_name": "Python 2",
   "language": "python",
   "name": "python2"
  },
  "language_info": {
   "codemirror_mode": {
    "name": "ipython",
    "version": 2
   },
   "file_extension": ".py",
   "mimetype": "text/x-python",
   "name": "python",
   "nbconvert_exporter": "python",
   "pygments_lexer": "ipython2",
   "version": "2.7.10"
  }
 },
 "nbformat": 4,
 "nbformat_minor": 0
}
