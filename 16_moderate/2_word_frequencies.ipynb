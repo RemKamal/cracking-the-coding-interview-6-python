{
 "cells": [
  {
   "cell_type": "markdown",
   "metadata": {},
   "source": [
    "## Problem\n",
    "\n",
    "Design a method to find the frequency of occurences of any given word in a book."
   ]
  },
  {
   "cell_type": "markdown",
   "metadata": {},
   "source": [
    "## Thoughs\n",
    "A simple Python dictionary(hash table) could solve the problem."
   ]
  },
  {
   "cell_type": "code",
   "execution_count": 1,
   "metadata": {
    "collapsed": true
   },
   "outputs": [],
   "source": [
    "# Time: O(n)\n",
    "# Space: O(n)\n",
    "\n",
    "def freq_counter(line, target):\n",
    "    counter = {target: 0}\n",
    "    words = line.split()\n",
    "    for word in words:\n",
    "        if word.lower() == target:\n",
    "            counter[target] += 1\n",
    "    return counter"
   ]
  },
  {
   "cell_type": "code",
   "execution_count": 2,
   "metadata": {
    "collapsed": true
   },
   "outputs": [],
   "source": [
    "line = \"\"\"It was the best of times, it was the worst of times, it was the age of wisdom,\n",
    "          it was the age of foolishness, it was the epoch of belief, it was the epoch of\n",
    "          incredulity, it was the season of Light, it was the season of Darkness, it was\n",
    "          the spring of hope, it was the winter of despair, we had everything before us,\n",
    "          we had nothing before us, we were all going direct to Heaven, we were all going\n",
    "          direct the other way - in short, the period was so far like the present period,\n",
    "          that some of its noisiest authorities insisted on its being received, for good\n",
    "          or for evil, in the superlative degree of comparison only.\"\"\""
   ]
  },
  {
   "cell_type": "code",
   "execution_count": 3,
   "metadata": {
    "collapsed": false
   },
   "outputs": [
    {
     "data": {
      "text/plain": [
       "{'it': 10}"
      ]
     },
     "execution_count": 3,
     "metadata": {},
     "output_type": "execute_result"
    }
   ],
   "source": [
    "freq_counter(line, \"it\")"
   ]
  },
  {
   "cell_type": "markdown",
   "metadata": {},
   "source": [
    "## Follow up\n",
    "\n",
    "What if we were running this algorithm multiple times?"
   ]
  },
  {
   "cell_type": "markdown",
   "metadata": {},
   "source": [
    "Since we need to run the function multiple times, we need a way to memorize the result so that after the first run, we won't do the same work again and waste our time. A Python decorator comes handy at play."
   ]
  },
  {
   "cell_type": "code",
   "execution_count": 4,
   "metadata": {
    "collapsed": true
   },
   "outputs": [],
   "source": [
    "# Time: O(n + k), k is number of repetition.\n",
    "# Space: O(n)\n",
    "\n",
    "def memo(func):\n",
    "    cache = {}\n",
    "    def wrapper(line, word):\n",
    "        if (line, word) not in cache:\n",
    "            cache[(line, word)] = func(line, word)\n",
    "        return cache[(line, word)]\n",
    "    return wrapper\n",
    "\n",
    "@memo\n",
    "def memo_counter(line, target):\n",
    "    counter = {target: 0}\n",
    "    words = line.split()\n",
    "    for word in words:\n",
    "        if word.lower() == target:\n",
    "            counter[target] += 1\n",
    "    return counter"
   ]
  },
  {
   "cell_type": "code",
   "execution_count": 5,
   "metadata": {
    "collapsed": false
   },
   "outputs": [
    {
     "data": {
      "text/plain": [
       "{'it': 10}"
      ]
     },
     "execution_count": 5,
     "metadata": {},
     "output_type": "execute_result"
    }
   ],
   "source": [
    "memo_counter(line, \"it\")"
   ]
  },
  {
   "cell_type": "markdown",
   "metadata": {},
   "source": [
    "After the initial call, which takes O(n) time, the rest call will take constant time as the result's already stored in the memory."
   ]
  }
 ],
 "metadata": {
  "kernelspec": {
   "display_name": "Python 2",
   "language": "python",
   "name": "python2"
  },
  "language_info": {
   "codemirror_mode": {
    "name": "ipython",
    "version": 2
   },
   "file_extension": ".py",
   "mimetype": "text/x-python",
   "name": "python",
   "nbconvert_exporter": "python",
   "pygments_lexer": "ipython2",
   "version": "2.7.10"
  }
 },
 "nbformat": 4,
 "nbformat_minor": 0
}
