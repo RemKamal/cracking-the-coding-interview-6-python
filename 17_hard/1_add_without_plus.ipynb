{
 "cells": [
  {
   "cell_type": "markdown",
   "metadata": {},
   "source": [
    "# Problem\n",
    "Write a function that adds two numbers without using any arithmetic operators."
   ]
  },
  {
   "cell_type": "markdown",
   "metadata": {},
   "source": [
    "## Thoughts\n",
    "There are two thoughts came to my mind when dealing with this problem -- iteration and bitwise operations. Recalling from elementary school, how did you learn to add two things up? For me, it's simple counting. Let's say there are four apples on the left table, and six apples on the right table, then how many apples are there on the tables? You count from the left to the right, one by one, and by the end, you got the anwser ten. And this is how iteration works.\n",
    "\n",
    "The other thought is a software engineer instinct. For one thing, if you cannot use arithmetic operators, then you should think about bitwise operators. On the other hand, if you know how CPU adds numbers, you might already know the best answer for this question. If not, that's fine, I found this nice short video that helped me understand [how computers add numbers.](https://www.youtube.com/watch?v=VBDoT8o4q00)"
   ]
  },
  {
   "cell_type": "markdown",
   "metadata": {},
   "source": [
    "### Iteration"
   ]
  },
  {
   "cell_type": "code",
   "execution_count": 1,
   "metadata": {
    "collapsed": true
   },
   "outputs": [],
   "source": [
    "# Time: O(n)\n",
    "# Space: O(n)\n",
    "\n",
    "def add_iteration(a, b):\n",
    "    memo = []\n",
    "    for i in range(a):\n",
    "        memo.append(0)\n",
    "    for j in range(b):\n",
    "        memo.append(0)\n",
    "    return len(memo)"
   ]
  },
  {
   "cell_type": "code",
   "execution_count": 2,
   "metadata": {
    "collapsed": false
   },
   "outputs": [
    {
     "data": {
      "text/plain": [
       "31"
      ]
     },
     "execution_count": 2,
     "metadata": {},
     "output_type": "execute_result"
    }
   ],
   "source": [
    "add_iteration(15, 16)"
   ]
  },
  {
   "cell_type": "markdown",
   "metadata": {},
   "source": [
    "### Bitwise Operation"
   ]
  },
  {
   "cell_type": "code",
   "execution_count": 3,
   "metadata": {
    "collapsed": true
   },
   "outputs": [],
   "source": [
    "# Time: O(1)\n",
    "# Space: in-place\n",
    "\n",
    "def add(a, b):\n",
    "    if a == 0: return b\n",
    "    and_gate = (a & b) << 1\n",
    "    xor_gate = a ^ b\n",
    "    return add(and_gate, xor_gate)"
   ]
  },
  {
   "cell_type": "code",
   "execution_count": 4,
   "metadata": {
    "collapsed": false
   },
   "outputs": [
    {
     "data": {
      "text/plain": [
       "31"
      ]
     },
     "execution_count": 4,
     "metadata": {},
     "output_type": "execute_result"
    }
   ],
   "source": [
    "add(15, 16)"
   ]
  }
 ],
 "metadata": {
  "kernelspec": {
   "display_name": "Python 2",
   "language": "python",
   "name": "python2"
  },
  "language_info": {
   "codemirror_mode": {
    "name": "ipython",
    "version": 2
   },
   "file_extension": ".py",
   "mimetype": "text/x-python",
   "name": "python",
   "nbconvert_exporter": "python",
   "pygments_lexer": "ipython2",
   "version": "2.7.10"
  }
 },
 "nbformat": 4,
 "nbformat_minor": 0
}
