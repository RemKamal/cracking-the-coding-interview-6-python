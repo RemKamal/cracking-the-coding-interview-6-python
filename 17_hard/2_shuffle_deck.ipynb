{
 "cells": [
  {
   "cell_type": "markdown",
   "metadata": {},
   "source": [
    "## Question\n",
    "\n",
    "Write a function to shuffle a deck of cards."
   ]
  },
  {
   "cell_type": "markdown",
   "metadata": {},
   "source": [
    "## Thoughts\n",
    "\n",
    "Of course you could use the built-in library, random.shuffle, but that's cheating. There's a [nice short video](https://www.udacity.com/course/viewer#!/c-cs212/l-48299974/e-48299973/m-48727364) talking about shuffling deck. If you are not familiar with the algorithm, go check it out! For me, I didn't know about this algorithm before, so I came with this lame solution."
   ]
  },
  {
   "cell_type": "code",
   "execution_count": 1,
   "metadata": {
    "collapsed": true
   },
   "outputs": [],
   "source": [
    "import random"
   ]
  },
  {
   "cell_type": "code",
   "execution_count": 2,
   "metadata": {
    "collapsed": true
   },
   "outputs": [],
   "source": [
    "# Time: O(n^2)\n",
    "# Space: O(n)\n",
    "\n",
    "def lame_shuffle(deck):\n",
    "    shuffled = []\n",
    "    while len(deck) > 0:\n",
    "        i = random.randint(0, len(deck) - 1)\n",
    "        shuffled.append(deck.pop(i))\n",
    "    return shuffled"
   ]
  },
  {
   "cell_type": "code",
   "execution_count": 3,
   "metadata": {
    "collapsed": true
   },
   "outputs": [],
   "source": [
    "deck = [r + s for r in \"23456789TJQKA\" for s in \"SHDC\"]"
   ]
  },
  {
   "cell_type": "code",
   "execution_count": 4,
   "metadata": {
    "collapsed": false
   },
   "outputs": [
    {
     "name": "stdout",
     "output_type": "stream",
     "text": [
      "['AC', 'KC', '2H', '5H', '8H', '2D', '7S', '9H', '2C', '5S', '4D', 'QS', 'JC', '8C', '8S', '3D', '7C', 'JS', 'KS', '2S', '6D', '9D', 'QH', '6H', '5C', 'KH', '4S', 'TS', '3S', '3H', 'AD', '4C', '5D', 'TH', '6S', 'AS', '7H', 'JH', '4H', '9S', 'QC', 'AH', 'QD', '8D', '9C', 'TC', '7D', 'KD', '6C', '3C', 'JD', 'TD']\n"
     ]
    }
   ],
   "source": [
    "print lame_shuffle(deck)"
   ]
  },
  {
   "cell_type": "markdown",
   "metadata": {},
   "source": [
    "It works, although it takes lots of time and space compared to the following algorithm,"
   ]
  },
  {
   "cell_type": "code",
   "execution_count": 5,
   "metadata": {
    "collapsed": true
   },
   "outputs": [],
   "source": [
    "# Time: O(n)\n",
    "# Space: in-place\n",
    "\n",
    "def shuffle(deck):\n",
    "    n = len(deck)\n",
    "    for i in range(n - 1):\n",
    "        j = random.randint(0, n - 1)\n",
    "        deck[i], deck[j] = deck[j], deck[i]\n",
    "    return deck"
   ]
  },
  {
   "cell_type": "code",
   "execution_count": 6,
   "metadata": {
    "collapsed": true
   },
   "outputs": [],
   "source": [
    "deck = [r + s for r in \"23456789TJQKA\" for s in \"SHDC\"]"
   ]
  },
  {
   "cell_type": "code",
   "execution_count": 7,
   "metadata": {
    "collapsed": false
   },
   "outputs": [
    {
     "name": "stdout",
     "output_type": "stream",
     "text": [
      "['KC', '5S', '8C', '9C', 'QH', 'TS', '2C', '7C', '7D', '2D', '4S', '7H', '6C', 'QD', '6S', '8D', '9H', '2S', '2H', '5C', 'JS', '6H', 'JH', 'AH', '8S', '3S', '4D', 'JD', '3H', 'TD', 'QS', 'AS', '9D', '3D', 'TH', 'KH', '6D', 'JC', 'QC', '5H', '8H', 'TC', '7S', 'KS', '4H', '3C', '5D', '9S', '4C', 'KD', 'AD', 'AC']\n"
     ]
    }
   ],
   "source": [
    "print shuffle(deck)"
   ]
  }
 ],
 "metadata": {
  "kernelspec": {
   "display_name": "Python 2",
   "language": "python",
   "name": "python2"
  },
  "language_info": {
   "codemirror_mode": {
    "name": "ipython",
    "version": 2
   },
   "file_extension": ".py",
   "mimetype": "text/x-python",
   "name": "python",
   "nbconvert_exporter": "python",
   "pygments_lexer": "ipython2",
   "version": "2.7.10"
  }
 },
 "nbformat": 4,
 "nbformat_minor": 0
}
